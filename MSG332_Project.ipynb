{
  "cells": [
    {
      "cell_type": "markdown",
      "source": [
        "cover story"
      ],
      "metadata": {
        "id": "xSLO--xe_3c6"
      },
      "id": "xSLO--xe_3c6"
    },
    {
      "cell_type": "markdown",
      "source": [
        "# Section 0: Import Packages"
      ],
      "metadata": {
        "id": "HyilvDkpvI1b"
      },
      "id": "HyilvDkpvI1b"
    },
    {
      "cell_type": "code",
      "execution_count": null,
      "id": "004a94d5",
      "metadata": {
        "execution": {
          "iopub.execute_input": "2022-06-17T20:54:09.792701Z",
          "iopub.status.busy": "2022-06-17T20:54:09.791571Z",
          "iopub.status.idle": "2022-06-17T20:54:12.035678Z",
          "shell.execute_reply": "2022-06-17T20:54:12.034179Z"
        },
        "papermill": {
          "duration": 2.274446,
          "end_time": "2022-06-17T20:54:12.043543",
          "exception": false,
          "start_time": "2022-06-17T20:54:09.769097",
          "status": "completed"
        },
        "tags": [],
        "id": "004a94d5"
      },
      "outputs": [],
      "source": [
        "#to deal with pandas dataframe and import data\n",
        "import pandas as pd\n",
        "import numpy as np\n",
        "import seaborn as sns\n",
        "from matplotlib import pyplot as plt\n",
        "from sklearn.model_selection import train_test_split\n",
        "from sklearn.impute import KNNImputer\n",
        "from sklearn.preprocessing import PowerTransformer\n",
        "from sklearn.svm import SVC\n",
        "from sklearn.neighbors import KNeighborsClassifier\n",
        "from sklearn.linear_model import LogisticRegression\n",
        "from sklearn.ensemble import RandomForestClassifier\n",
        "from sklearn.metrics import confusion_matrix, classification_report, accuracy_score, f1_score, roc_auc_score,roc_curve\n",
        "import warnings\n",
        "%matplotlib inline\n",
        "warnings.filterwarnings('ignore')"
      ]
    },
    {
      "cell_type": "markdown",
      "source": [
        "# Section 1: Data Pre-processing"
      ],
      "metadata": {
        "id": "QIWGusH0vPz0"
      },
      "id": "QIWGusH0vPz0"
    },
    {
      "cell_type": "code",
      "execution_count": null,
      "id": "a092e965",
      "metadata": {
        "execution": {
          "iopub.execute_input": "2022-06-17T20:54:12.099826Z",
          "iopub.status.busy": "2022-06-17T20:54:12.099028Z",
          "iopub.status.idle": "2022-06-17T20:54:12.134307Z",
          "shell.execute_reply": "2022-06-17T20:54:12.132565Z"
        },
        "papermill": {
          "duration": 0.066757,
          "end_time": "2022-06-17T20:54:12.138899",
          "exception": false,
          "start_time": "2022-06-17T20:54:12.072142",
          "status": "completed"
        },
        "tags": [],
        "id": "a092e965"
      },
      "outputs": [],
      "source": [
        "# read dataset\n",
        "url = 'https://raw.githubusercontent.com/chaiwencw/Heart-Disease-Prediction-Using-Machine-Learning/main/heart-disease-data.csv'\n",
        "raw_data = pd.read_csv(url)"
      ]
    },
    {
      "cell_type": "code",
      "source": [
        "# print center-aligned dataframe\n",
        "def center_aligned(df):\n",
        "  dfStyler = df.style.set_properties(**{'text-align': 'center'})\n",
        "  return dfStyler.set_table_styles([dict(selector='th', props=[('text-align', 'center')])])\n",
        "  \n",
        "center_aligned(raw_data.head())"
      ],
      "metadata": {
        "colab": {
          "base_uri": "https://localhost:8080/",
          "height": 206
        },
        "id": "M5H2nD51SFAi",
        "outputId": "d915192a-f286-4244-f73d-226b370a819f"
      },
      "id": "M5H2nD51SFAi",
      "execution_count": null,
      "outputs": [
        {
          "output_type": "execute_result",
          "data": {
            "text/plain": [
              "<pandas.io.formats.style.Styler at 0x7f0a60b2ec90>"
            ],
            "text/html": [
              "<style type=\"text/css\">\n",
              "#T_627b4_ th {\n",
              "  text-align: center;\n",
              "}\n",
              "#T_627b4_row0_col0, #T_627b4_row0_col1, #T_627b4_row0_col2, #T_627b4_row0_col3, #T_627b4_row0_col4, #T_627b4_row0_col5, #T_627b4_row0_col6, #T_627b4_row0_col7, #T_627b4_row0_col8, #T_627b4_row0_col9, #T_627b4_row0_col10, #T_627b4_row0_col11, #T_627b4_row0_col12, #T_627b4_row0_col13, #T_627b4_row1_col0, #T_627b4_row1_col1, #T_627b4_row1_col2, #T_627b4_row1_col3, #T_627b4_row1_col4, #T_627b4_row1_col5, #T_627b4_row1_col6, #T_627b4_row1_col7, #T_627b4_row1_col8, #T_627b4_row1_col9, #T_627b4_row1_col10, #T_627b4_row1_col11, #T_627b4_row1_col12, #T_627b4_row1_col13, #T_627b4_row2_col0, #T_627b4_row2_col1, #T_627b4_row2_col2, #T_627b4_row2_col3, #T_627b4_row2_col4, #T_627b4_row2_col5, #T_627b4_row2_col6, #T_627b4_row2_col7, #T_627b4_row2_col8, #T_627b4_row2_col9, #T_627b4_row2_col10, #T_627b4_row2_col11, #T_627b4_row2_col12, #T_627b4_row2_col13, #T_627b4_row3_col0, #T_627b4_row3_col1, #T_627b4_row3_col2, #T_627b4_row3_col3, #T_627b4_row3_col4, #T_627b4_row3_col5, #T_627b4_row3_col6, #T_627b4_row3_col7, #T_627b4_row3_col8, #T_627b4_row3_col9, #T_627b4_row3_col10, #T_627b4_row3_col11, #T_627b4_row3_col12, #T_627b4_row3_col13, #T_627b4_row4_col0, #T_627b4_row4_col1, #T_627b4_row4_col2, #T_627b4_row4_col3, #T_627b4_row4_col4, #T_627b4_row4_col5, #T_627b4_row4_col6, #T_627b4_row4_col7, #T_627b4_row4_col8, #T_627b4_row4_col9, #T_627b4_row4_col10, #T_627b4_row4_col11, #T_627b4_row4_col12, #T_627b4_row4_col13 {\n",
              "  text-align: center;\n",
              "}\n",
              "</style>\n",
              "<table id=\"T_627b4_\" class=\"dataframe\">\n",
              "  <thead>\n",
              "    <tr>\n",
              "      <th class=\"blank level0\" >&nbsp;</th>\n",
              "      <th class=\"col_heading level0 col0\" >age</th>\n",
              "      <th class=\"col_heading level0 col1\" >sex</th>\n",
              "      <th class=\"col_heading level0 col2\" >cp</th>\n",
              "      <th class=\"col_heading level0 col3\" >trestbps</th>\n",
              "      <th class=\"col_heading level0 col4\" >chol</th>\n",
              "      <th class=\"col_heading level0 col5\" >fbs</th>\n",
              "      <th class=\"col_heading level0 col6\" >restecg</th>\n",
              "      <th class=\"col_heading level0 col7\" >thalach</th>\n",
              "      <th class=\"col_heading level0 col8\" >exang</th>\n",
              "      <th class=\"col_heading level0 col9\" >oldpeak</th>\n",
              "      <th class=\"col_heading level0 col10\" >slope</th>\n",
              "      <th class=\"col_heading level0 col11\" >ca</th>\n",
              "      <th class=\"col_heading level0 col12\" >thal</th>\n",
              "      <th class=\"col_heading level0 col13\" >target</th>\n",
              "    </tr>\n",
              "  </thead>\n",
              "  <tbody>\n",
              "    <tr>\n",
              "      <th id=\"T_627b4_level0_row0\" class=\"row_heading level0 row0\" >0</th>\n",
              "      <td id=\"T_627b4_row0_col0\" class=\"data row0 col0\" >52</td>\n",
              "      <td id=\"T_627b4_row0_col1\" class=\"data row0 col1\" >1</td>\n",
              "      <td id=\"T_627b4_row0_col2\" class=\"data row0 col2\" >0</td>\n",
              "      <td id=\"T_627b4_row0_col3\" class=\"data row0 col3\" >125</td>\n",
              "      <td id=\"T_627b4_row0_col4\" class=\"data row0 col4\" >212</td>\n",
              "      <td id=\"T_627b4_row0_col5\" class=\"data row0 col5\" >0</td>\n",
              "      <td id=\"T_627b4_row0_col6\" class=\"data row0 col6\" >1</td>\n",
              "      <td id=\"T_627b4_row0_col7\" class=\"data row0 col7\" >168</td>\n",
              "      <td id=\"T_627b4_row0_col8\" class=\"data row0 col8\" >0</td>\n",
              "      <td id=\"T_627b4_row0_col9\" class=\"data row0 col9\" >1.000000</td>\n",
              "      <td id=\"T_627b4_row0_col10\" class=\"data row0 col10\" >2</td>\n",
              "      <td id=\"T_627b4_row0_col11\" class=\"data row0 col11\" >2</td>\n",
              "      <td id=\"T_627b4_row0_col12\" class=\"data row0 col12\" >3</td>\n",
              "      <td id=\"T_627b4_row0_col13\" class=\"data row0 col13\" >0</td>\n",
              "    </tr>\n",
              "    <tr>\n",
              "      <th id=\"T_627b4_level0_row1\" class=\"row_heading level0 row1\" >1</th>\n",
              "      <td id=\"T_627b4_row1_col0\" class=\"data row1 col0\" >53</td>\n",
              "      <td id=\"T_627b4_row1_col1\" class=\"data row1 col1\" >1</td>\n",
              "      <td id=\"T_627b4_row1_col2\" class=\"data row1 col2\" >0</td>\n",
              "      <td id=\"T_627b4_row1_col3\" class=\"data row1 col3\" >140</td>\n",
              "      <td id=\"T_627b4_row1_col4\" class=\"data row1 col4\" >203</td>\n",
              "      <td id=\"T_627b4_row1_col5\" class=\"data row1 col5\" >1</td>\n",
              "      <td id=\"T_627b4_row1_col6\" class=\"data row1 col6\" >0</td>\n",
              "      <td id=\"T_627b4_row1_col7\" class=\"data row1 col7\" >155</td>\n",
              "      <td id=\"T_627b4_row1_col8\" class=\"data row1 col8\" >1</td>\n",
              "      <td id=\"T_627b4_row1_col9\" class=\"data row1 col9\" >3.100000</td>\n",
              "      <td id=\"T_627b4_row1_col10\" class=\"data row1 col10\" >0</td>\n",
              "      <td id=\"T_627b4_row1_col11\" class=\"data row1 col11\" >0</td>\n",
              "      <td id=\"T_627b4_row1_col12\" class=\"data row1 col12\" >3</td>\n",
              "      <td id=\"T_627b4_row1_col13\" class=\"data row1 col13\" >0</td>\n",
              "    </tr>\n",
              "    <tr>\n",
              "      <th id=\"T_627b4_level0_row2\" class=\"row_heading level0 row2\" >2</th>\n",
              "      <td id=\"T_627b4_row2_col0\" class=\"data row2 col0\" >70</td>\n",
              "      <td id=\"T_627b4_row2_col1\" class=\"data row2 col1\" >1</td>\n",
              "      <td id=\"T_627b4_row2_col2\" class=\"data row2 col2\" >0</td>\n",
              "      <td id=\"T_627b4_row2_col3\" class=\"data row2 col3\" >145</td>\n",
              "      <td id=\"T_627b4_row2_col4\" class=\"data row2 col4\" >174</td>\n",
              "      <td id=\"T_627b4_row2_col5\" class=\"data row2 col5\" >0</td>\n",
              "      <td id=\"T_627b4_row2_col6\" class=\"data row2 col6\" >1</td>\n",
              "      <td id=\"T_627b4_row2_col7\" class=\"data row2 col7\" >125</td>\n",
              "      <td id=\"T_627b4_row2_col8\" class=\"data row2 col8\" >1</td>\n",
              "      <td id=\"T_627b4_row2_col9\" class=\"data row2 col9\" >2.600000</td>\n",
              "      <td id=\"T_627b4_row2_col10\" class=\"data row2 col10\" >0</td>\n",
              "      <td id=\"T_627b4_row2_col11\" class=\"data row2 col11\" >0</td>\n",
              "      <td id=\"T_627b4_row2_col12\" class=\"data row2 col12\" >3</td>\n",
              "      <td id=\"T_627b4_row2_col13\" class=\"data row2 col13\" >0</td>\n",
              "    </tr>\n",
              "    <tr>\n",
              "      <th id=\"T_627b4_level0_row3\" class=\"row_heading level0 row3\" >3</th>\n",
              "      <td id=\"T_627b4_row3_col0\" class=\"data row3 col0\" >61</td>\n",
              "      <td id=\"T_627b4_row3_col1\" class=\"data row3 col1\" >1</td>\n",
              "      <td id=\"T_627b4_row3_col2\" class=\"data row3 col2\" >0</td>\n",
              "      <td id=\"T_627b4_row3_col3\" class=\"data row3 col3\" >148</td>\n",
              "      <td id=\"T_627b4_row3_col4\" class=\"data row3 col4\" >203</td>\n",
              "      <td id=\"T_627b4_row3_col5\" class=\"data row3 col5\" >0</td>\n",
              "      <td id=\"T_627b4_row3_col6\" class=\"data row3 col6\" >1</td>\n",
              "      <td id=\"T_627b4_row3_col7\" class=\"data row3 col7\" >161</td>\n",
              "      <td id=\"T_627b4_row3_col8\" class=\"data row3 col8\" >0</td>\n",
              "      <td id=\"T_627b4_row3_col9\" class=\"data row3 col9\" >0.000000</td>\n",
              "      <td id=\"T_627b4_row3_col10\" class=\"data row3 col10\" >2</td>\n",
              "      <td id=\"T_627b4_row3_col11\" class=\"data row3 col11\" >1</td>\n",
              "      <td id=\"T_627b4_row3_col12\" class=\"data row3 col12\" >3</td>\n",
              "      <td id=\"T_627b4_row3_col13\" class=\"data row3 col13\" >0</td>\n",
              "    </tr>\n",
              "    <tr>\n",
              "      <th id=\"T_627b4_level0_row4\" class=\"row_heading level0 row4\" >4</th>\n",
              "      <td id=\"T_627b4_row4_col0\" class=\"data row4 col0\" >62</td>\n",
              "      <td id=\"T_627b4_row4_col1\" class=\"data row4 col1\" >0</td>\n",
              "      <td id=\"T_627b4_row4_col2\" class=\"data row4 col2\" >0</td>\n",
              "      <td id=\"T_627b4_row4_col3\" class=\"data row4 col3\" >138</td>\n",
              "      <td id=\"T_627b4_row4_col4\" class=\"data row4 col4\" >294</td>\n",
              "      <td id=\"T_627b4_row4_col5\" class=\"data row4 col5\" >1</td>\n",
              "      <td id=\"T_627b4_row4_col6\" class=\"data row4 col6\" >1</td>\n",
              "      <td id=\"T_627b4_row4_col7\" class=\"data row4 col7\" >106</td>\n",
              "      <td id=\"T_627b4_row4_col8\" class=\"data row4 col8\" >0</td>\n",
              "      <td id=\"T_627b4_row4_col9\" class=\"data row4 col9\" >1.900000</td>\n",
              "      <td id=\"T_627b4_row4_col10\" class=\"data row4 col10\" >1</td>\n",
              "      <td id=\"T_627b4_row4_col11\" class=\"data row4 col11\" >3</td>\n",
              "      <td id=\"T_627b4_row4_col12\" class=\"data row4 col12\" >2</td>\n",
              "      <td id=\"T_627b4_row4_col13\" class=\"data row4 col13\" >0</td>\n",
              "    </tr>\n",
              "  </tbody>\n",
              "</table>\n"
            ]
          },
          "metadata": {},
          "execution_count": 7
        }
      ]
    },
    {
      "cell_type": "markdown",
      "source": [
        "Click to View ▶ [Variable Description](https://drive.google.com/uc?id=12Fp0Q1zQioOgoDwC1Si_VMB6sRPVckTC)\n"
      ],
      "metadata": {
        "id": "cCM0Gt3oaF08"
      },
      "id": "cCM0Gt3oaF08"
    },
    {
      "cell_type": "code",
      "source": [
        "# rename columns\n",
        "raw_data.columns = ['Age','Gender', 'Chest Pain Type','Rest Blood Pressure','Serum Cholestrol',\n",
        "                    'Fasting Blood Sugar', 'Resting ECG','Max Heart Rate', 'Exercise Induced Angina', 'Old Peak',\n",
        "                    'Slope of the Peak','No. of Major Vessels','Thalassemia', 'Diagnosis of Heart Disease']\n",
        "\n",
        "center_aligned(raw_data.head())"
      ],
      "metadata": {
        "colab": {
          "base_uri": "https://localhost:8080/",
          "height": 241
        },
        "id": "I7FtHQfJQ7ec",
        "outputId": "e0385cd6-0017-435b-b499-c4a051caff9e"
      },
      "id": "I7FtHQfJQ7ec",
      "execution_count": null,
      "outputs": [
        {
          "output_type": "execute_result",
          "data": {
            "text/plain": [
              "<pandas.io.formats.style.Styler at 0x7f0a60b32cd0>"
            ],
            "text/html": [
              "<style type=\"text/css\">\n",
              "#T_d175f_ th {\n",
              "  text-align: center;\n",
              "}\n",
              "#T_d175f_row0_col0, #T_d175f_row0_col1, #T_d175f_row0_col2, #T_d175f_row0_col3, #T_d175f_row0_col4, #T_d175f_row0_col5, #T_d175f_row0_col6, #T_d175f_row0_col7, #T_d175f_row0_col8, #T_d175f_row0_col9, #T_d175f_row0_col10, #T_d175f_row0_col11, #T_d175f_row0_col12, #T_d175f_row0_col13, #T_d175f_row1_col0, #T_d175f_row1_col1, #T_d175f_row1_col2, #T_d175f_row1_col3, #T_d175f_row1_col4, #T_d175f_row1_col5, #T_d175f_row1_col6, #T_d175f_row1_col7, #T_d175f_row1_col8, #T_d175f_row1_col9, #T_d175f_row1_col10, #T_d175f_row1_col11, #T_d175f_row1_col12, #T_d175f_row1_col13, #T_d175f_row2_col0, #T_d175f_row2_col1, #T_d175f_row2_col2, #T_d175f_row2_col3, #T_d175f_row2_col4, #T_d175f_row2_col5, #T_d175f_row2_col6, #T_d175f_row2_col7, #T_d175f_row2_col8, #T_d175f_row2_col9, #T_d175f_row2_col10, #T_d175f_row2_col11, #T_d175f_row2_col12, #T_d175f_row2_col13, #T_d175f_row3_col0, #T_d175f_row3_col1, #T_d175f_row3_col2, #T_d175f_row3_col3, #T_d175f_row3_col4, #T_d175f_row3_col5, #T_d175f_row3_col6, #T_d175f_row3_col7, #T_d175f_row3_col8, #T_d175f_row3_col9, #T_d175f_row3_col10, #T_d175f_row3_col11, #T_d175f_row3_col12, #T_d175f_row3_col13, #T_d175f_row4_col0, #T_d175f_row4_col1, #T_d175f_row4_col2, #T_d175f_row4_col3, #T_d175f_row4_col4, #T_d175f_row4_col5, #T_d175f_row4_col6, #T_d175f_row4_col7, #T_d175f_row4_col8, #T_d175f_row4_col9, #T_d175f_row4_col10, #T_d175f_row4_col11, #T_d175f_row4_col12, #T_d175f_row4_col13 {\n",
              "  text-align: center;\n",
              "}\n",
              "</style>\n",
              "<table id=\"T_d175f_\" class=\"dataframe\">\n",
              "  <thead>\n",
              "    <tr>\n",
              "      <th class=\"blank level0\" >&nbsp;</th>\n",
              "      <th class=\"col_heading level0 col0\" >Age</th>\n",
              "      <th class=\"col_heading level0 col1\" >Gender</th>\n",
              "      <th class=\"col_heading level0 col2\" >Chest Pain Type</th>\n",
              "      <th class=\"col_heading level0 col3\" >Rest Blood Pressure</th>\n",
              "      <th class=\"col_heading level0 col4\" >Serum Cholestrol</th>\n",
              "      <th class=\"col_heading level0 col5\" >Fasting Blood Sugar</th>\n",
              "      <th class=\"col_heading level0 col6\" >Resting ECG</th>\n",
              "      <th class=\"col_heading level0 col7\" >Max Heart Rate</th>\n",
              "      <th class=\"col_heading level0 col8\" >Exercise Induced Angina</th>\n",
              "      <th class=\"col_heading level0 col9\" >Old Peak</th>\n",
              "      <th class=\"col_heading level0 col10\" >Slope of the Peak</th>\n",
              "      <th class=\"col_heading level0 col11\" >No. of Major Vessels</th>\n",
              "      <th class=\"col_heading level0 col12\" >Thalassemia</th>\n",
              "      <th class=\"col_heading level0 col13\" >Diagnosis of Heart Disease</th>\n",
              "    </tr>\n",
              "  </thead>\n",
              "  <tbody>\n",
              "    <tr>\n",
              "      <th id=\"T_d175f_level0_row0\" class=\"row_heading level0 row0\" >0</th>\n",
              "      <td id=\"T_d175f_row0_col0\" class=\"data row0 col0\" >52</td>\n",
              "      <td id=\"T_d175f_row0_col1\" class=\"data row0 col1\" >1</td>\n",
              "      <td id=\"T_d175f_row0_col2\" class=\"data row0 col2\" >0</td>\n",
              "      <td id=\"T_d175f_row0_col3\" class=\"data row0 col3\" >125</td>\n",
              "      <td id=\"T_d175f_row0_col4\" class=\"data row0 col4\" >212</td>\n",
              "      <td id=\"T_d175f_row0_col5\" class=\"data row0 col5\" >0</td>\n",
              "      <td id=\"T_d175f_row0_col6\" class=\"data row0 col6\" >1</td>\n",
              "      <td id=\"T_d175f_row0_col7\" class=\"data row0 col7\" >168</td>\n",
              "      <td id=\"T_d175f_row0_col8\" class=\"data row0 col8\" >0</td>\n",
              "      <td id=\"T_d175f_row0_col9\" class=\"data row0 col9\" >1.000000</td>\n",
              "      <td id=\"T_d175f_row0_col10\" class=\"data row0 col10\" >2</td>\n",
              "      <td id=\"T_d175f_row0_col11\" class=\"data row0 col11\" >2</td>\n",
              "      <td id=\"T_d175f_row0_col12\" class=\"data row0 col12\" >3</td>\n",
              "      <td id=\"T_d175f_row0_col13\" class=\"data row0 col13\" >0</td>\n",
              "    </tr>\n",
              "    <tr>\n",
              "      <th id=\"T_d175f_level0_row1\" class=\"row_heading level0 row1\" >1</th>\n",
              "      <td id=\"T_d175f_row1_col0\" class=\"data row1 col0\" >53</td>\n",
              "      <td id=\"T_d175f_row1_col1\" class=\"data row1 col1\" >1</td>\n",
              "      <td id=\"T_d175f_row1_col2\" class=\"data row1 col2\" >0</td>\n",
              "      <td id=\"T_d175f_row1_col3\" class=\"data row1 col3\" >140</td>\n",
              "      <td id=\"T_d175f_row1_col4\" class=\"data row1 col4\" >203</td>\n",
              "      <td id=\"T_d175f_row1_col5\" class=\"data row1 col5\" >1</td>\n",
              "      <td id=\"T_d175f_row1_col6\" class=\"data row1 col6\" >0</td>\n",
              "      <td id=\"T_d175f_row1_col7\" class=\"data row1 col7\" >155</td>\n",
              "      <td id=\"T_d175f_row1_col8\" class=\"data row1 col8\" >1</td>\n",
              "      <td id=\"T_d175f_row1_col9\" class=\"data row1 col9\" >3.100000</td>\n",
              "      <td id=\"T_d175f_row1_col10\" class=\"data row1 col10\" >0</td>\n",
              "      <td id=\"T_d175f_row1_col11\" class=\"data row1 col11\" >0</td>\n",
              "      <td id=\"T_d175f_row1_col12\" class=\"data row1 col12\" >3</td>\n",
              "      <td id=\"T_d175f_row1_col13\" class=\"data row1 col13\" >0</td>\n",
              "    </tr>\n",
              "    <tr>\n",
              "      <th id=\"T_d175f_level0_row2\" class=\"row_heading level0 row2\" >2</th>\n",
              "      <td id=\"T_d175f_row2_col0\" class=\"data row2 col0\" >70</td>\n",
              "      <td id=\"T_d175f_row2_col1\" class=\"data row2 col1\" >1</td>\n",
              "      <td id=\"T_d175f_row2_col2\" class=\"data row2 col2\" >0</td>\n",
              "      <td id=\"T_d175f_row2_col3\" class=\"data row2 col3\" >145</td>\n",
              "      <td id=\"T_d175f_row2_col4\" class=\"data row2 col4\" >174</td>\n",
              "      <td id=\"T_d175f_row2_col5\" class=\"data row2 col5\" >0</td>\n",
              "      <td id=\"T_d175f_row2_col6\" class=\"data row2 col6\" >1</td>\n",
              "      <td id=\"T_d175f_row2_col7\" class=\"data row2 col7\" >125</td>\n",
              "      <td id=\"T_d175f_row2_col8\" class=\"data row2 col8\" >1</td>\n",
              "      <td id=\"T_d175f_row2_col9\" class=\"data row2 col9\" >2.600000</td>\n",
              "      <td id=\"T_d175f_row2_col10\" class=\"data row2 col10\" >0</td>\n",
              "      <td id=\"T_d175f_row2_col11\" class=\"data row2 col11\" >0</td>\n",
              "      <td id=\"T_d175f_row2_col12\" class=\"data row2 col12\" >3</td>\n",
              "      <td id=\"T_d175f_row2_col13\" class=\"data row2 col13\" >0</td>\n",
              "    </tr>\n",
              "    <tr>\n",
              "      <th id=\"T_d175f_level0_row3\" class=\"row_heading level0 row3\" >3</th>\n",
              "      <td id=\"T_d175f_row3_col0\" class=\"data row3 col0\" >61</td>\n",
              "      <td id=\"T_d175f_row3_col1\" class=\"data row3 col1\" >1</td>\n",
              "      <td id=\"T_d175f_row3_col2\" class=\"data row3 col2\" >0</td>\n",
              "      <td id=\"T_d175f_row3_col3\" class=\"data row3 col3\" >148</td>\n",
              "      <td id=\"T_d175f_row3_col4\" class=\"data row3 col4\" >203</td>\n",
              "      <td id=\"T_d175f_row3_col5\" class=\"data row3 col5\" >0</td>\n",
              "      <td id=\"T_d175f_row3_col6\" class=\"data row3 col6\" >1</td>\n",
              "      <td id=\"T_d175f_row3_col7\" class=\"data row3 col7\" >161</td>\n",
              "      <td id=\"T_d175f_row3_col8\" class=\"data row3 col8\" >0</td>\n",
              "      <td id=\"T_d175f_row3_col9\" class=\"data row3 col9\" >0.000000</td>\n",
              "      <td id=\"T_d175f_row3_col10\" class=\"data row3 col10\" >2</td>\n",
              "      <td id=\"T_d175f_row3_col11\" class=\"data row3 col11\" >1</td>\n",
              "      <td id=\"T_d175f_row3_col12\" class=\"data row3 col12\" >3</td>\n",
              "      <td id=\"T_d175f_row3_col13\" class=\"data row3 col13\" >0</td>\n",
              "    </tr>\n",
              "    <tr>\n",
              "      <th id=\"T_d175f_level0_row4\" class=\"row_heading level0 row4\" >4</th>\n",
              "      <td id=\"T_d175f_row4_col0\" class=\"data row4 col0\" >62</td>\n",
              "      <td id=\"T_d175f_row4_col1\" class=\"data row4 col1\" >0</td>\n",
              "      <td id=\"T_d175f_row4_col2\" class=\"data row4 col2\" >0</td>\n",
              "      <td id=\"T_d175f_row4_col3\" class=\"data row4 col3\" >138</td>\n",
              "      <td id=\"T_d175f_row4_col4\" class=\"data row4 col4\" >294</td>\n",
              "      <td id=\"T_d175f_row4_col5\" class=\"data row4 col5\" >1</td>\n",
              "      <td id=\"T_d175f_row4_col6\" class=\"data row4 col6\" >1</td>\n",
              "      <td id=\"T_d175f_row4_col7\" class=\"data row4 col7\" >106</td>\n",
              "      <td id=\"T_d175f_row4_col8\" class=\"data row4 col8\" >0</td>\n",
              "      <td id=\"T_d175f_row4_col9\" class=\"data row4 col9\" >1.900000</td>\n",
              "      <td id=\"T_d175f_row4_col10\" class=\"data row4 col10\" >1</td>\n",
              "      <td id=\"T_d175f_row4_col11\" class=\"data row4 col11\" >3</td>\n",
              "      <td id=\"T_d175f_row4_col12\" class=\"data row4 col12\" >2</td>\n",
              "      <td id=\"T_d175f_row4_col13\" class=\"data row4 col13\" >0</td>\n",
              "    </tr>\n",
              "  </tbody>\n",
              "</table>\n"
            ]
          },
          "metadata": {},
          "execution_count": 8
        }
      ]
    },
    {
      "cell_type": "code",
      "source": [
        "# determine no. of rows & columns\n",
        "raw_data.shape"
      ],
      "metadata": {
        "colab": {
          "base_uri": "https://localhost:8080/"
        },
        "id": "ZzsMc2lcS_GF",
        "outputId": "d91793ab-cf7b-45cc-fc8f-19ca70adab68"
      },
      "id": "ZzsMc2lcS_GF",
      "execution_count": null,
      "outputs": [
        {
          "output_type": "execute_result",
          "data": {
            "text/plain": [
              "(1025, 14)"
            ]
          },
          "metadata": {},
          "execution_count": 9
        }
      ]
    },
    {
      "cell_type": "code",
      "source": [
        "# check number of unique value in each column\n",
        "raw_data.nunique()"
      ],
      "metadata": {
        "colab": {
          "base_uri": "https://localhost:8080/"
        },
        "id": "Gg8WAvmuTCpZ",
        "outputId": "c04e5526-0b2f-4cf4-cfe5-64e911c33c4b"
      },
      "id": "Gg8WAvmuTCpZ",
      "execution_count": null,
      "outputs": [
        {
          "output_type": "execute_result",
          "data": {
            "text/plain": [
              "Age                            41\n",
              "Gender                          2\n",
              "Chest Pain Type                 4\n",
              "Rest Blood Pressure            49\n",
              "Serum Cholestrol              152\n",
              "Fasting Blood Sugar             2\n",
              "Resting ECG                     3\n",
              "Max Heart Rate                 91\n",
              "Exercise Induced Angina         2\n",
              "Old Peak                       40\n",
              "Slope of the Peak               3\n",
              "No. of Major Vessels            5\n",
              "Thalassemia                     4\n",
              "Diagnosis of Heart Disease      2\n",
              "dtype: int64"
            ]
          },
          "metadata": {},
          "execution_count": 10
        }
      ]
    },
    {
      "cell_type": "markdown",
      "source": [
        "The above result shows the number of unique elements in **No. of Major Vessels** and **Thalassemia** are 5 and 4, respectively. But based on the [Variable Description](https://drive.google.com/uc?id=12Fp0Q1zQioOgoDwC1Si_VMB6sRPVckTC), they should be 4 (0, 1, 2, 3) and 3 (0, 1, 2), accordingly. So, there may exist missing data in these columns.\n",
        "\n",
        "\n",
        "\n",
        "Handling Missing Values: No. of Major Vessels and Thalassemia\n",
        "\n",
        "---\n",
        "\n"
      ],
      "metadata": {
        "id": "_7TPKs42iHyd"
      },
      "id": "_7TPKs42iHyd"
    },
    {
      "cell_type": "code",
      "source": [
        "# check unique element in columns with missing data\n",
        "def unique_element(md):\n",
        "  for col in md:\n",
        "    print(f'The unique elements in {col} is {md[col].unique()}')\n",
        "\n",
        "unique_element(raw_data[['No. of Major Vessels','Thalassemia']])"
      ],
      "metadata": {
        "colab": {
          "base_uri": "https://localhost:8080/"
        },
        "id": "mSHHosHJqeKZ",
        "outputId": "05d29bc5-224f-47cc-89ad-c028331e26af"
      },
      "id": "mSHHosHJqeKZ",
      "execution_count": null,
      "outputs": [
        {
          "output_type": "stream",
          "name": "stdout",
          "text": [
            "The unique elements in No. of Major Vessels is [2 0 1 3 4]\n",
            "The unique elements in Thalassemia is [3 2 1 0]\n"
          ]
        }
      ]
    },
    {
      "cell_type": "code",
      "source": [
        "# change the missing values to nan\n",
        "raw_data.loc[(raw_data['No. of Major Vessels'] == 4),'No. of Major Vessels'] = None\n",
        "raw_data.loc[(raw_data['Thalassemia'] == 3),'Thalassemia'] = None\n",
        "unique_element(raw_data[['No. of Major Vessels','Thalassemia']])"
      ],
      "metadata": {
        "colab": {
          "base_uri": "https://localhost:8080/"
        },
        "id": "kpVUyc9jrFCQ",
        "outputId": "8df2e44f-9ad3-4925-f1ef-1c8f3170986f"
      },
      "id": "kpVUyc9jrFCQ",
      "execution_count": null,
      "outputs": [
        {
          "output_type": "stream",
          "name": "stdout",
          "text": [
            "The unique elements in No. of Major Vessels is [ 2.  0.  1.  3. nan]\n",
            "The unique elements in Thalassemia is [nan  2.  1.  0.]\n"
          ]
        }
      ]
    },
    {
      "cell_type": "code",
      "source": [
        "# count missing data\n",
        "vessel_null = raw_data['No. of Major Vessels'].isnull().sum()\n",
        "print(f' The total missing values in No. of Major Vessels is {vessel_null}')\n",
        "thal_null = raw_data['Thalassemia'].isnull().sum()\n",
        "print(f' The total missing values in Thalassemia is {thal_null}')"
      ],
      "metadata": {
        "colab": {
          "base_uri": "https://localhost:8080/"
        },
        "id": "vlmW_THqPNoe",
        "outputId": "89a22869-82d0-4337-d51a-076aae4cbec8"
      },
      "id": "vlmW_THqPNoe",
      "execution_count": null,
      "outputs": [
        {
          "output_type": "stream",
          "name": "stdout",
          "text": [
            " The total missing values in No. of Major Vessels is 18\n",
            " The total missing values in Thalassemia is 410\n"
          ]
        }
      ]
    },
    {
      "cell_type": "code",
      "source": [
        "# missing values imputation using KNNImputer\n",
        "def knn_imputer(col_with_null):\n",
        "  imputer = KNNImputer(n_neighbors=2)\n",
        "  result = np.rint(imputer.fit_transform(col_with_null))\n",
        "  return result\n",
        "raw_data['No. of Major Vessels'] = knn_imputer(raw_data[['No. of Major Vessels']])\n",
        "raw_data['Thalassemia'] = knn_imputer(raw_data[['Thalassemia']])"
      ],
      "metadata": {
        "id": "U546dHABXrHe"
      },
      "id": "U546dHABXrHe",
      "execution_count": null,
      "outputs": []
    },
    {
      "cell_type": "code",
      "source": [
        "# fig, ax = plt.subplots(2,2,figsize=(20,8))\n",
        "# fig = raw_data['No. of Major Vessels'].fillna('NULL').value_counts().plot.bar(rot=0,ax=ax[0][0])\n",
        "# fig.set(title =f'Count Plot of No. of Major Vessels Before Imputation')\n",
        "# fig = raw_data['Thalassemia'].fillna('NULL').value_counts().plot.bar(rot=0,ax=ax[1][0])\n",
        "# fig.set(title =f'Count Plot of Thalassemia Before Imputation')\n",
        "# raw_data['No. of Major Vessels'] = knn_imputer(raw_data[['No. of Major Vessels']])\n",
        "# raw_data['Thalassemia'] = knn_imputer(raw_data[['Thalassemia']])\n",
        "# fig = raw_data['No. of Major Vessels'].value_counts().plot.bar(rot=0,ax=ax[0][1])\n",
        "# fig.set(title =f'Count Plot of No. of Major Vessels After Imputation')\n",
        "# fig = raw_data['Thalassemia'].value_counts().plot.bar(rot=0,ax=ax[1][1])\n",
        "# fig.set(title =f'Count Plot of Thalassemia After Imputation')\n",
        "# plt.show()"
      ],
      "metadata": {
        "id": "4RyCYA_aXCkd"
      },
      "id": "4RyCYA_aXCkd",
      "execution_count": null,
      "outputs": []
    },
    {
      "cell_type": "markdown",
      "source": [
        "\n",
        "\n",
        "---\n",
        "\n",
        "\n",
        "Decode the encoded categorical columns for readability."
      ],
      "metadata": {
        "id": "I-k5aoi8Vtm-"
      },
      "id": "I-k5aoi8Vtm-"
    },
    {
      "cell_type": "code",
      "execution_count": null,
      "id": "f27d7efc",
      "metadata": {
        "execution": {
          "iopub.execute_input": "2022-06-17T20:54:12.186688Z",
          "iopub.status.busy": "2022-06-17T20:54:12.186132Z",
          "iopub.status.idle": "2022-06-17T20:54:12.221915Z",
          "shell.execute_reply": "2022-06-17T20:54:12.220525Z"
        },
        "papermill": {
          "duration": 0.063285,
          "end_time": "2022-06-17T20:54:12.225991",
          "exception": false,
          "start_time": "2022-06-17T20:54:12.162706",
          "status": "completed"
        },
        "tags": [],
        "id": "f27d7efc",
        "colab": {
          "base_uri": "https://localhost:8080/",
          "height": 328
        },
        "outputId": "3ee34da5-bc74-4228-f3f5-87650a5317c9"
      },
      "outputs": [
        {
          "output_type": "execute_result",
          "data": {
            "text/plain": [
              "<pandas.io.formats.style.Styler at 0x7f0a60ae24d0>"
            ],
            "text/html": [
              "<style type=\"text/css\">\n",
              "#T_e1c7f_ th {\n",
              "  text-align: center;\n",
              "}\n",
              "#T_e1c7f_row0_col0, #T_e1c7f_row0_col1, #T_e1c7f_row0_col2, #T_e1c7f_row0_col3, #T_e1c7f_row0_col4, #T_e1c7f_row0_col5, #T_e1c7f_row0_col6, #T_e1c7f_row0_col7, #T_e1c7f_row0_col8, #T_e1c7f_row0_col9, #T_e1c7f_row0_col10, #T_e1c7f_row0_col11, #T_e1c7f_row0_col12, #T_e1c7f_row0_col13, #T_e1c7f_row1_col0, #T_e1c7f_row1_col1, #T_e1c7f_row1_col2, #T_e1c7f_row1_col3, #T_e1c7f_row1_col4, #T_e1c7f_row1_col5, #T_e1c7f_row1_col6, #T_e1c7f_row1_col7, #T_e1c7f_row1_col8, #T_e1c7f_row1_col9, #T_e1c7f_row1_col10, #T_e1c7f_row1_col11, #T_e1c7f_row1_col12, #T_e1c7f_row1_col13, #T_e1c7f_row2_col0, #T_e1c7f_row2_col1, #T_e1c7f_row2_col2, #T_e1c7f_row2_col3, #T_e1c7f_row2_col4, #T_e1c7f_row2_col5, #T_e1c7f_row2_col6, #T_e1c7f_row2_col7, #T_e1c7f_row2_col8, #T_e1c7f_row2_col9, #T_e1c7f_row2_col10, #T_e1c7f_row2_col11, #T_e1c7f_row2_col12, #T_e1c7f_row2_col13, #T_e1c7f_row3_col0, #T_e1c7f_row3_col1, #T_e1c7f_row3_col2, #T_e1c7f_row3_col3, #T_e1c7f_row3_col4, #T_e1c7f_row3_col5, #T_e1c7f_row3_col6, #T_e1c7f_row3_col7, #T_e1c7f_row3_col8, #T_e1c7f_row3_col9, #T_e1c7f_row3_col10, #T_e1c7f_row3_col11, #T_e1c7f_row3_col12, #T_e1c7f_row3_col13, #T_e1c7f_row4_col0, #T_e1c7f_row4_col1, #T_e1c7f_row4_col2, #T_e1c7f_row4_col3, #T_e1c7f_row4_col4, #T_e1c7f_row4_col5, #T_e1c7f_row4_col6, #T_e1c7f_row4_col7, #T_e1c7f_row4_col8, #T_e1c7f_row4_col9, #T_e1c7f_row4_col10, #T_e1c7f_row4_col11, #T_e1c7f_row4_col12, #T_e1c7f_row4_col13 {\n",
              "  text-align: center;\n",
              "}\n",
              "</style>\n",
              "<table id=\"T_e1c7f_\" class=\"dataframe\">\n",
              "  <thead>\n",
              "    <tr>\n",
              "      <th class=\"blank level0\" >&nbsp;</th>\n",
              "      <th class=\"col_heading level0 col0\" >Age</th>\n",
              "      <th class=\"col_heading level0 col1\" >Gender</th>\n",
              "      <th class=\"col_heading level0 col2\" >Chest Pain Type</th>\n",
              "      <th class=\"col_heading level0 col3\" >Rest Blood Pressure</th>\n",
              "      <th class=\"col_heading level0 col4\" >Serum Cholestrol</th>\n",
              "      <th class=\"col_heading level0 col5\" >Fasting Blood Sugar</th>\n",
              "      <th class=\"col_heading level0 col6\" >Resting ECG</th>\n",
              "      <th class=\"col_heading level0 col7\" >Max Heart Rate</th>\n",
              "      <th class=\"col_heading level0 col8\" >Exercise Induced Angina</th>\n",
              "      <th class=\"col_heading level0 col9\" >Old Peak</th>\n",
              "      <th class=\"col_heading level0 col10\" >Slope of the Peak</th>\n",
              "      <th class=\"col_heading level0 col11\" >No. of Major Vessels</th>\n",
              "      <th class=\"col_heading level0 col12\" >Thalassemia</th>\n",
              "      <th class=\"col_heading level0 col13\" >Diagnosis of Heart Disease</th>\n",
              "    </tr>\n",
              "  </thead>\n",
              "  <tbody>\n",
              "    <tr>\n",
              "      <th id=\"T_e1c7f_level0_row0\" class=\"row_heading level0 row0\" >0</th>\n",
              "      <td id=\"T_e1c7f_row0_col0\" class=\"data row0 col0\" >52</td>\n",
              "      <td id=\"T_e1c7f_row0_col1\" class=\"data row0 col1\" >male</td>\n",
              "      <td id=\"T_e1c7f_row0_col2\" class=\"data row0 col2\" >typical angina</td>\n",
              "      <td id=\"T_e1c7f_row0_col3\" class=\"data row0 col3\" >125</td>\n",
              "      <td id=\"T_e1c7f_row0_col4\" class=\"data row0 col4\" >212</td>\n",
              "      <td id=\"T_e1c7f_row0_col5\" class=\"data row0 col5\" >false</td>\n",
              "      <td id=\"T_e1c7f_row0_col6\" class=\"data row0 col6\" >1</td>\n",
              "      <td id=\"T_e1c7f_row0_col7\" class=\"data row0 col7\" >168</td>\n",
              "      <td id=\"T_e1c7f_row0_col8\" class=\"data row0 col8\" >no</td>\n",
              "      <td id=\"T_e1c7f_row0_col9\" class=\"data row0 col9\" >1.000000</td>\n",
              "      <td id=\"T_e1c7f_row0_col10\" class=\"data row0 col10\" >down</td>\n",
              "      <td id=\"T_e1c7f_row0_col11\" class=\"data row0 col11\" >2.000000</td>\n",
              "      <td id=\"T_e1c7f_row0_col12\" class=\"data row0 col12\" >reversible defect</td>\n",
              "      <td id=\"T_e1c7f_row0_col13\" class=\"data row0 col13\" >no</td>\n",
              "    </tr>\n",
              "    <tr>\n",
              "      <th id=\"T_e1c7f_level0_row1\" class=\"row_heading level0 row1\" >1</th>\n",
              "      <td id=\"T_e1c7f_row1_col0\" class=\"data row1 col0\" >53</td>\n",
              "      <td id=\"T_e1c7f_row1_col1\" class=\"data row1 col1\" >male</td>\n",
              "      <td id=\"T_e1c7f_row1_col2\" class=\"data row1 col2\" >typical angina</td>\n",
              "      <td id=\"T_e1c7f_row1_col3\" class=\"data row1 col3\" >140</td>\n",
              "      <td id=\"T_e1c7f_row1_col4\" class=\"data row1 col4\" >203</td>\n",
              "      <td id=\"T_e1c7f_row1_col5\" class=\"data row1 col5\" >true</td>\n",
              "      <td id=\"T_e1c7f_row1_col6\" class=\"data row1 col6\" >0</td>\n",
              "      <td id=\"T_e1c7f_row1_col7\" class=\"data row1 col7\" >155</td>\n",
              "      <td id=\"T_e1c7f_row1_col8\" class=\"data row1 col8\" >yes</td>\n",
              "      <td id=\"T_e1c7f_row1_col9\" class=\"data row1 col9\" >3.100000</td>\n",
              "      <td id=\"T_e1c7f_row1_col10\" class=\"data row1 col10\" >up</td>\n",
              "      <td id=\"T_e1c7f_row1_col11\" class=\"data row1 col11\" >0.000000</td>\n",
              "      <td id=\"T_e1c7f_row1_col12\" class=\"data row1 col12\" >reversible defect</td>\n",
              "      <td id=\"T_e1c7f_row1_col13\" class=\"data row1 col13\" >no</td>\n",
              "    </tr>\n",
              "    <tr>\n",
              "      <th id=\"T_e1c7f_level0_row2\" class=\"row_heading level0 row2\" >2</th>\n",
              "      <td id=\"T_e1c7f_row2_col0\" class=\"data row2 col0\" >70</td>\n",
              "      <td id=\"T_e1c7f_row2_col1\" class=\"data row2 col1\" >male</td>\n",
              "      <td id=\"T_e1c7f_row2_col2\" class=\"data row2 col2\" >typical angina</td>\n",
              "      <td id=\"T_e1c7f_row2_col3\" class=\"data row2 col3\" >145</td>\n",
              "      <td id=\"T_e1c7f_row2_col4\" class=\"data row2 col4\" >174</td>\n",
              "      <td id=\"T_e1c7f_row2_col5\" class=\"data row2 col5\" >false</td>\n",
              "      <td id=\"T_e1c7f_row2_col6\" class=\"data row2 col6\" >1</td>\n",
              "      <td id=\"T_e1c7f_row2_col7\" class=\"data row2 col7\" >125</td>\n",
              "      <td id=\"T_e1c7f_row2_col8\" class=\"data row2 col8\" >yes</td>\n",
              "      <td id=\"T_e1c7f_row2_col9\" class=\"data row2 col9\" >2.600000</td>\n",
              "      <td id=\"T_e1c7f_row2_col10\" class=\"data row2 col10\" >up</td>\n",
              "      <td id=\"T_e1c7f_row2_col11\" class=\"data row2 col11\" >0.000000</td>\n",
              "      <td id=\"T_e1c7f_row2_col12\" class=\"data row2 col12\" >reversible defect</td>\n",
              "      <td id=\"T_e1c7f_row2_col13\" class=\"data row2 col13\" >no</td>\n",
              "    </tr>\n",
              "    <tr>\n",
              "      <th id=\"T_e1c7f_level0_row3\" class=\"row_heading level0 row3\" >3</th>\n",
              "      <td id=\"T_e1c7f_row3_col0\" class=\"data row3 col0\" >61</td>\n",
              "      <td id=\"T_e1c7f_row3_col1\" class=\"data row3 col1\" >male</td>\n",
              "      <td id=\"T_e1c7f_row3_col2\" class=\"data row3 col2\" >typical angina</td>\n",
              "      <td id=\"T_e1c7f_row3_col3\" class=\"data row3 col3\" >148</td>\n",
              "      <td id=\"T_e1c7f_row3_col4\" class=\"data row3 col4\" >203</td>\n",
              "      <td id=\"T_e1c7f_row3_col5\" class=\"data row3 col5\" >false</td>\n",
              "      <td id=\"T_e1c7f_row3_col6\" class=\"data row3 col6\" >1</td>\n",
              "      <td id=\"T_e1c7f_row3_col7\" class=\"data row3 col7\" >161</td>\n",
              "      <td id=\"T_e1c7f_row3_col8\" class=\"data row3 col8\" >no</td>\n",
              "      <td id=\"T_e1c7f_row3_col9\" class=\"data row3 col9\" >0.000000</td>\n",
              "      <td id=\"T_e1c7f_row3_col10\" class=\"data row3 col10\" >down</td>\n",
              "      <td id=\"T_e1c7f_row3_col11\" class=\"data row3 col11\" >1.000000</td>\n",
              "      <td id=\"T_e1c7f_row3_col12\" class=\"data row3 col12\" >reversible defect</td>\n",
              "      <td id=\"T_e1c7f_row3_col13\" class=\"data row3 col13\" >no</td>\n",
              "    </tr>\n",
              "    <tr>\n",
              "      <th id=\"T_e1c7f_level0_row4\" class=\"row_heading level0 row4\" >4</th>\n",
              "      <td id=\"T_e1c7f_row4_col0\" class=\"data row4 col0\" >62</td>\n",
              "      <td id=\"T_e1c7f_row4_col1\" class=\"data row4 col1\" >female</td>\n",
              "      <td id=\"T_e1c7f_row4_col2\" class=\"data row4 col2\" >typical angina</td>\n",
              "      <td id=\"T_e1c7f_row4_col3\" class=\"data row4 col3\" >138</td>\n",
              "      <td id=\"T_e1c7f_row4_col4\" class=\"data row4 col4\" >294</td>\n",
              "      <td id=\"T_e1c7f_row4_col5\" class=\"data row4 col5\" >true</td>\n",
              "      <td id=\"T_e1c7f_row4_col6\" class=\"data row4 col6\" >1</td>\n",
              "      <td id=\"T_e1c7f_row4_col7\" class=\"data row4 col7\" >106</td>\n",
              "      <td id=\"T_e1c7f_row4_col8\" class=\"data row4 col8\" >no</td>\n",
              "      <td id=\"T_e1c7f_row4_col9\" class=\"data row4 col9\" >1.900000</td>\n",
              "      <td id=\"T_e1c7f_row4_col10\" class=\"data row4 col10\" >flat</td>\n",
              "      <td id=\"T_e1c7f_row4_col11\" class=\"data row4 col11\" >3.000000</td>\n",
              "      <td id=\"T_e1c7f_row4_col12\" class=\"data row4 col12\" >reversible defect</td>\n",
              "      <td id=\"T_e1c7f_row4_col13\" class=\"data row4 col13\" >no</td>\n",
              "    </tr>\n",
              "  </tbody>\n",
              "</table>\n"
            ]
          },
          "metadata": {},
          "execution_count": 16
        }
      ],
      "source": [
        "# create attribute dictionary\n",
        "attr_dict = { \n",
        "    'Gender': {\n",
        "        0: 'female',\n",
        "        1: 'male'\n",
        "      },\n",
        "    'Chest Pain Type': {\n",
        "        0: 'typical angina', \n",
        "        1: 'atypical angina', \n",
        "        2: 'non-anginal pain',\n",
        "        3: 'asymptomatic'\n",
        "    },\n",
        "    'Fasting Blood Sugar': {0: 'false', 1: 'true'},\n",
        "    'Rest ECG': {\n",
        "        0: 'normal',\n",
        "        1: 'abnormal',\n",
        "        2: 'hyper'\n",
        "    }, \n",
        "    'Exercise Induced Angina': {0: 'no', 1: 'yes'},\n",
        "    'Slope of the Peak': {\n",
        "        0: 'up',\n",
        "        1: 'flat',\n",
        "        2: 'down'\n",
        "    },\n",
        "    'Thalassemia': { #the current dataset: 0 = null\n",
        "        0: 'normal',\n",
        "        1: 'fixed defect',\n",
        "        2: 'reversible defect'\n",
        "    }, \n",
        "    'Diagnosis of Heart Disease': {0: 'no', 1: 'yes'}\n",
        "}\n",
        "\n",
        "\n",
        "# map attribute dictionary to the categorical columns (decode numeric values to string)\n",
        "decoded_data = pd.DataFrame()\n",
        "for col in raw_data.columns:\n",
        "  if col in attr_dict:\n",
        "    decoded_data[col] = raw_data[col].map(attr_dict[col].get)\n",
        "  else:\n",
        "    decoded_data[col] = raw_data[col]\n",
        "\n",
        "center_aligned(decoded_data.head())\n"
      ]
    },
    {
      "cell_type": "code",
      "execution_count": null,
      "id": "128c039b",
      "metadata": {
        "execution": {
          "iopub.execute_input": "2022-06-17T20:54:12.264438Z",
          "iopub.status.busy": "2022-06-17T20:54:12.263949Z",
          "iopub.status.idle": "2022-06-17T20:54:12.299172Z",
          "shell.execute_reply": "2022-06-17T20:54:12.297407Z"
        },
        "papermill": {
          "duration": 0.057648,
          "end_time": "2022-06-17T20:54:12.302028",
          "exception": false,
          "start_time": "2022-06-17T20:54:12.244380",
          "status": "completed"
        },
        "tags": [],
        "id": "128c039b"
      },
      "outputs": [],
      "source": [
        "# quick view basic information of the dataset\n",
        "decoded_data.info()"
      ]
    },
    {
      "cell_type": "markdown",
      "source": [
        "# Section 2: Exploratory Data Analysis (EDA)"
      ],
      "metadata": {
        "id": "FRYNlV6pvW-r"
      },
      "id": "FRYNlV6pvW-r"
    },
    {
      "cell_type": "code",
      "source": [
        "cat_features = decoded_data.drop('Diagnosis of Heart Disease', axis=1).select_dtypes(include='object')\n",
        "# num_features consists of all numerical columns only\n",
        "num_features = decoded_data.select_dtypes(exclude = 'object')\n",
        "target=decoded_data[['Diagnosis of Heart Disease']]"
      ],
      "metadata": {
        "id": "WPRJLBmK_bDH"
      },
      "id": "WPRJLBmK_bDH",
      "execution_count": null,
      "outputs": []
    },
    {
      "cell_type": "markdown",
      "source": [
        "A. Categorical Data Analysis:\n",
        "\n",
        "\n",
        "1.   Gender\n",
        "\n"
      ],
      "metadata": {
        "id": "qZ2zVEE4lGEX"
      },
      "id": "qZ2zVEE4lGEX"
    },
    {
      "cell_type": "code",
      "source": [
        "# visualize frequency of individuals based on Gender using bar plot\n",
        "fig = sns.countplot(x=decoded_data['Gender'])\n",
        "fig.set(xlabel='Gender',\n",
        "        ylabel='Number of Individuals',\n",
        "        title=\"Bar Plot of Gender\")\n",
        "# to display count values on the top of bar\n",
        "for p in fig.patches:\n",
        "   fig.annotate('{:.1f}'.format(p.get_height()), \n",
        "                (p.get_x()+p.get_width()/2, \n",
        "                 p.get_height()), ha ='center') #adjust position to center\n",
        "plt.show()"
      ],
      "metadata": {
        "id": "tMomzHHrkllg"
      },
      "id": "tMomzHHrkllg",
      "execution_count": null,
      "outputs": []
    },
    {
      "cell_type": "markdown",
      "source": [
        "2. Chest Pain Type"
      ],
      "metadata": {
        "id": "zy59mC0slQUK"
      },
      "id": "zy59mC0slQUK"
    },
    {
      "cell_type": "code",
      "source": [
        "fig = sns.countplot(x=decoded_data['Fasting Blood Sugar'])\n",
        "fig.set(xlabel='Fasting Blood Sugar ',\n",
        "        ylabel='Number of Individuals',\n",
        "        title=\"Bar Plot of Fasting Blood Sugar \")\n",
        "# to display count values on the top of bar\n",
        "for p in fig.patches:\n",
        "   fig.annotate('{:.1f}'.format(p.get_height()), \n",
        "                (p.get_x()+p.get_width()/2, \n",
        "                 p.get_height()), ha ='center') #adjust position to center\n",
        "plt.show()"
      ],
      "metadata": {
        "id": "Wn7Kcdk-lWmB"
      },
      "id": "Wn7Kcdk-lWmB",
      "execution_count": null,
      "outputs": []
    },
    {
      "cell_type": "markdown",
      "source": [
        "3. Exercise-Induced Angina"
      ],
      "metadata": {
        "id": "Oq9x7XsdqbpX"
      },
      "id": "Oq9x7XsdqbpX"
    },
    {
      "cell_type": "code",
      "source": [
        "decoded_data['Exercise Induced Angina'].value_counts(normalize = True).plot(kind='pie', \n",
        "                                                        autopct='%1.0f%%',\n",
        "                                                        title='Exercise-Induced Angina?',\n",
        "                                                        colormap = 'Pastel1')\n",
        "plt.show()"
      ],
      "metadata": {
        "id": "HwoZTYfRmO36"
      },
      "id": "HwoZTYfRmO36",
      "execution_count": null,
      "outputs": []
    },
    {
      "cell_type": "markdown",
      "source": [
        "4. Slope of the Peak"
      ],
      "metadata": {
        "id": "c3By1XLtqga5"
      },
      "id": "c3By1XLtqga5"
    },
    {
      "cell_type": "code",
      "source": [
        "decoded_data['Slope of the Peak'].value_counts(normalize = True).plot(kind='pie', \n",
        "                                                        autopct='%1.0f%%',\n",
        "                                                        title='ST Slope',\n",
        "                                                        colormap = 'Pastel1')\n",
        "plt.show()"
      ],
      "metadata": {
        "id": "nRuED537msmH"
      },
      "id": "nRuED537msmH",
      "execution_count": null,
      "outputs": []
    },
    {
      "cell_type": "markdown",
      "source": [
        "5. Thalassemia"
      ],
      "metadata": {
        "id": "PgYorMs_qiYl"
      },
      "id": "PgYorMs_qiYl"
    },
    {
      "cell_type": "code",
      "source": [
        "decoded_data['Thalassemia'].value_counts(normalize = True).plot(kind='pie', \n",
        "                                                        autopct='%1.0f%%',\n",
        "                                                        colormap = 'Pastel1',)\n",
        "                                                        \n",
        "plt.show()\n"
      ],
      "metadata": {
        "id": "mVrtGH8CpQlj"
      },
      "id": "mVrtGH8CpQlj",
      "execution_count": null,
      "outputs": []
    },
    {
      "cell_type": "markdown",
      "source": [
        "6. Diagnosis of Heart Disease (Target)"
      ],
      "metadata": {
        "id": "_InmnwdPqkjB"
      },
      "id": "_InmnwdPqkjB"
    },
    {
      "cell_type": "code",
      "source": [
        "# visualize frequency of individuals based on Gender using bar plot\n",
        "fig = sns.countplot(x=target)\n",
        "fig.set(xlabel='',\n",
        "        ylabel='Number of Individuals',\n",
        "        title=\"Bar Plot of Diagnosis of Heart Disease\")\n",
        "# to display count values on the top of bar\n",
        "for p in fig.patches:\n",
        "   fig.annotate('{:.1f}'.format(p.get_height()), \n",
        "                (p.get_x()+p.get_width()/2, \n",
        "                 p.get_height()), ha ='center') #adjust position to center\n",
        "plt.show()"
      ],
      "metadata": {
        "id": "AZpkyGFol8SU"
      },
      "id": "AZpkyGFol8SU",
      "execution_count": null,
      "outputs": []
    },
    {
      "cell_type": "code",
      "source": [
        "# histogram"
      ],
      "metadata": {
        "id": "B4kZXavc7StX"
      },
      "id": "B4kZXavc7StX",
      "execution_count": null,
      "outputs": []
    },
    {
      "cell_type": "markdown",
      "source": [
        "B. Numerical Data Analysis"
      ],
      "metadata": {
        "id": "IDeoziJmQ20l"
      },
      "id": "IDeoziJmQ20l"
    },
    {
      "cell_type": "markdown",
      "source": [
        "Descriptive Statistics:"
      ],
      "metadata": {
        "id": "mKCApHjoAkx2"
      },
      "id": "mKCApHjoAkx2"
    },
    {
      "cell_type": "code",
      "execution_count": null,
      "id": "f3abf92b",
      "metadata": {
        "execution": {
          "iopub.execute_input": "2022-06-17T20:54:12.854859Z",
          "iopub.status.busy": "2022-06-17T20:54:12.853930Z",
          "iopub.status.idle": "2022-06-17T20:54:12.918297Z",
          "shell.execute_reply": "2022-06-17T20:54:12.917244Z"
        },
        "papermill": {
          "duration": 0.087614,
          "end_time": "2022-06-17T20:54:12.921285",
          "exception": false,
          "start_time": "2022-06-17T20:54:12.833671",
          "status": "completed"
        },
        "tags": [],
        "id": "f3abf92b"
      },
      "outputs": [],
      "source": [
        "round(num_features.describe().T,2)"
      ]
    },
    {
      "cell_type": "code",
      "source": [
        "num_features.skew()"
      ],
      "metadata": {
        "id": "6Uq43lUzRrP2"
      },
      "id": "6Uq43lUzRrP2",
      "execution_count": null,
      "outputs": []
    },
    {
      "cell_type": "code",
      "source": [
        "num_features.kurtosis()"
      ],
      "metadata": {
        "id": "Bh_JUJ1lRwVd"
      },
      "id": "Bh_JUJ1lRwVd",
      "execution_count": null,
      "outputs": []
    },
    {
      "cell_type": "markdown",
      "source": [
        "Distribution Plot:"
      ],
      "metadata": {
        "id": "fuB1gJQiAhpi"
      },
      "id": "fuB1gJQiAhpi"
    },
    {
      "cell_type": "code",
      "source": [
        "# distribution plot\n",
        "fig = plt.figure(figsize=(12, 8))\n",
        "num_features.hist(ax=fig.gca())\n",
        "plt.show()"
      ],
      "metadata": {
        "id": "oSHfwWKB-3CM"
      },
      "id": "oSHfwWKB-3CM",
      "execution_count": null,
      "outputs": []
    },
    {
      "cell_type": "markdown",
      "source": [
        "Remove Outliers:"
      ],
      "metadata": {
        "id": "xvwKunRFh1r5"
      },
      "id": "xvwKunRFh1r5"
    },
    {
      "cell_type": "code",
      "source": [
        "# Plot a boxplot for each numerical column \n",
        "fig, ax = plt.subplots(1, 7,figsize=(25,5))\n",
        "for col in num_features:\n",
        "  i = num_features.columns.get_loc(col)\n",
        "  fig = sns.boxplot(x = num_features[col],ax=ax[i])\n",
        "  fig.set(title =f'Boxplot of {col}')\n",
        "plt.show()\n"
      ],
      "metadata": {
        "id": "Bx_Pbz9fSDMK"
      },
      "id": "Bx_Pbz9fSDMK",
      "execution_count": null,
      "outputs": []
    },
    {
      "cell_type": "code",
      "source": [
        "# Handling with Outliers\n",
        "fig, ax = plt.subplots(1, 7,figsize=(25,5))\n",
        "for col in num_features:\n",
        "  q1 = num_features[col].quantile(0.25)\n",
        "  q3 = num_features[col].quantile(0.75)\n",
        "  IQR = q3 - q1\n",
        "  lower_limit = q1 - 1.5 * IQR\n",
        "  upper_limit = q3 + 1.5 * IQR\n",
        "\n",
        "  k1=num_features[num_features[col]>upper_limit]\n",
        "  k2=num_features[num_features[col]<lower_limit]\n",
        "  data_clean = pd.DataFrame()\n",
        "  \n",
        "  if not k1[col].empty:\n",
        "    print(f'Outliers on right side in {col} is \\n{k1[col]}.\\n')\n",
        "    data_clean = num_features[num_features[col]<upper_limit]\n",
        "  elif not k2[col].empty:\n",
        "    print(f'Outliers on left side in {col} is \\n{k2[col]}.\\n')\n",
        "    data_clean = num_features[num_features[col]>lower_limit]\n",
        "  elif k1[col].empty and k2[col].empty:\n",
        "    print(f'No outlier is found in {col}!\\n')\n",
        "    data_clean = num_features[(num_features[col]>lower_limit) & (num_features[col]<upper_limit)]\n",
        "  i = data_clean.columns.get_loc(col)\n",
        "  fig = sns.boxplot(x = data_clean[col],ax=ax[i])\n",
        "plt.show()"
      ],
      "metadata": {
        "id": "oLTX9pNgZIi2"
      },
      "id": "oLTX9pNgZIi2",
      "execution_count": null,
      "outputs": []
    },
    {
      "cell_type": "code",
      "source": [
        "num_features"
      ],
      "metadata": {
        "id": "MIWAt7SKIM_s"
      },
      "id": "MIWAt7SKIM_s",
      "execution_count": null,
      "outputs": []
    },
    {
      "cell_type": "code",
      "source": [
        "#exclude outlier rows\n",
        "cat_features = cat_features[cat_features.index.isin(num_features.index)]\n",
        "target = target[target.index.isin(num_features.index)]\n",
        "features = pd.concat([cat_features,num_features])"
      ],
      "metadata": {
        "id": "sDySAVjVCDYR"
      },
      "id": "sDySAVjVCDYR",
      "execution_count": null,
      "outputs": []
    },
    {
      "cell_type": "markdown",
      "source": [
        "### Correlation"
      ],
      "metadata": {
        "id": "JNrY5oRJBjZp"
      },
      "id": "JNrY5oRJBjZp"
    },
    {
      "cell_type": "markdown",
      "source": [
        "**Correlation Among Numeric Features**"
      ],
      "metadata": {
        "id": "YbZt83rfcztZ"
      },
      "id": "YbZt83rfcztZ"
    },
    {
      "cell_type": "code",
      "source": [
        "#obtain correlation matrix\n",
        "corr_mat = features.corr().abs()"
      ],
      "metadata": {
        "id": "U0Om_JUkBgXo"
      },
      "id": "U0Om_JUkBgXo",
      "execution_count": null,
      "outputs": []
    },
    {
      "cell_type": "code",
      "source": [
        "#obtain upper triangle of the correlation matrix (no diagonal) \n",
        "upper_tri = corr_mat.where(np.triu(np.ones(corr_mat.shape),k=1).astype(bool)) #drop the columns (features) with the correlation coefficient > 0.6\n",
        "to_drop = [column for column in upper_tri.columns if any(upper_tri[column] > 0.6)] \n",
        "if len(to_drop) == 0:\n",
        "  print('No highly correlated features are found!')\n",
        "else:\n",
        "  print(to_drop)"
      ],
      "metadata": {
        "id": "97JP9sDEBcIs"
      },
      "id": "97JP9sDEBcIs",
      "execution_count": null,
      "outputs": []
    },
    {
      "cell_type": "markdown",
      "source": [
        "Since no features are highly correlated, no dropping is performed. We can visualize the features correlation by plotting heatmap."
      ],
      "metadata": {
        "id": "hWDd7zNLD6oy"
      },
      "id": "hWDd7zNLD6oy"
    },
    {
      "cell_type": "code",
      "execution_count": null,
      "id": "30f6035c",
      "metadata": {
        "execution": {
          "iopub.execute_input": "2022-06-17T20:54:12.960747Z",
          "iopub.status.busy": "2022-06-17T20:54:12.960096Z",
          "iopub.status.idle": "2022-06-17T20:54:14.210909Z",
          "shell.execute_reply": "2022-06-17T20:54:14.209153Z"
        },
        "papermill": {
          "duration": 1.274794,
          "end_time": "2022-06-17T20:54:14.214835",
          "exception": false,
          "start_time": "2022-06-17T20:54:12.940041",
          "status": "completed"
        },
        "tags": [],
        "id": "30f6035c"
      },
      "outputs": [],
      "source": [
        "plt.figure(figsize = (15,8))\n",
        "sns.heatmap(features.corr(),annot=True,cmap='YlGnBu')\n",
        "plt.show()"
      ]
    },
    {
      "cell_type": "markdown",
      "source": [
        "Correlation between Categorical and Numeric Features "
      ],
      "metadata": {
        "id": "bxkFAVQYGs5r"
      },
      "id": "bxkFAVQYGs5r"
    },
    {
      "cell_type": "code",
      "source": [
        ""
      ],
      "metadata": {
        "id": "dcOiXtMRG4eH"
      },
      "id": "dcOiXtMRG4eH",
      "execution_count": null,
      "outputs": []
    },
    {
      "cell_type": "markdown",
      "source": [
        "Correlation between Features and Target\n",
        "\n",
        "- Assume that good variables are highly correlated with the target."
      ],
      "metadata": {
        "id": "K_iWlFdsECkg"
      },
      "id": "K_iWlFdsECkg"
    },
    {
      "cell_type": "code",
      "source": [
        ""
      ],
      "metadata": {
        "id": "uTndyUqYG46H"
      },
      "id": "uTndyUqYG46H",
      "execution_count": null,
      "outputs": []
    },
    {
      "cell_type": "code",
      "source": [
        "# reversed_thal_dict = {value: key for key, value in attr_dict['Thalassemia'].items()}\n",
        "# thal_df = pd.DataFrame({'original-thalassemia': decoded_data['Thalassemia'].map(reversed_thal_dict)})\n",
        "for col in cat_features:\n",
        "  reversed_dict = {key for key, value in attr_dict[col].items()}\n",
        "  cat_features[col]= cat_features[col].map(reversed_dict)"
      ],
      "metadata": {
        "id": "xJAUUJY_HFTq"
      },
      "id": "xJAUUJY_HFTq",
      "execution_count": null,
      "outputs": []
    },
    {
      "cell_type": "markdown",
      "id": "3526893a",
      "metadata": {
        "papermill": {
          "duration": 0.027337,
          "end_time": "2022-06-17T20:54:19.803155",
          "exception": false,
          "start_time": "2022-06-17T20:54:19.775818",
          "status": "completed"
        },
        "tags": [],
        "id": "3526893a"
      },
      "source": [
        "## Section 2.3: Data Splitting & Standardization"
      ]
    },
    {
      "cell_type": "code",
      "execution_count": null,
      "id": "95aaeaf6",
      "metadata": {
        "execution": {
          "iopub.execute_input": "2022-06-17T20:54:19.925345Z",
          "iopub.status.busy": "2022-06-17T20:54:19.924319Z",
          "iopub.status.idle": "2022-06-17T20:54:19.932729Z",
          "shell.execute_reply": "2022-06-17T20:54:19.931810Z"
        },
        "papermill": {
          "duration": 0.04117,
          "end_time": "2022-06-17T20:54:19.936682",
          "exception": false,
          "start_time": "2022-06-17T20:54:19.895512",
          "status": "completed"
        },
        "tags": [],
        "id": "95aaeaf6"
      },
      "outputs": [],
      "source": [
        "x_train, x_test, y_train, y_test = train_test_split(features, target, test_size = 0.30, random_state=1)"
      ]
    },
    {
      "cell_type": "code",
      "execution_count": null,
      "id": "f116ac5d",
      "metadata": {
        "execution": {
          "iopub.execute_input": "2022-06-17T20:54:19.996010Z",
          "iopub.status.busy": "2022-06-17T20:54:19.995429Z",
          "iopub.status.idle": "2022-06-17T20:54:20.009490Z",
          "shell.execute_reply": "2022-06-17T20:54:20.008633Z"
        },
        "papermill": {
          "duration": 0.045276,
          "end_time": "2022-06-17T20:54:20.011588",
          "exception": false,
          "start_time": "2022-06-17T20:54:19.966312",
          "status": "completed"
        },
        "tags": [],
        "id": "f116ac5d"
      },
      "outputs": [],
      "source": [
        "scalerX = PowerTransformer().fit(x_train)\n",
        "scalerY = PowerTransformer().fit(y_train)\n",
        "x_train = scalerX.transform(x_train)\n",
        "y_train = scalerY.transform(y_train)\n",
        "x_test = scalerX.transform(x_test)\n",
        "y_test = scalerY.transform(y_test)"
      ]
    },
    {
      "cell_type": "markdown",
      "source": [
        "# Section 3: Analysis"
      ],
      "metadata": {
        "id": "nzbwxuYQv1Xw"
      },
      "id": "nzbwxuYQv1Xw"
    },
    {
      "cell_type": "markdown",
      "source": [
        "## Section 3.1: Support Vector Machine (SVM)"
      ],
      "metadata": {
        "id": "WxC9_nUmv-eE"
      },
      "id": "WxC9_nUmv-eE"
    },
    {
      "cell_type": "code",
      "source": [
        "svm = SVC()\n",
        "svm.fit(x_train, y_train)"
      ],
      "metadata": {
        "id": "GDRv7UjbL3GA"
      },
      "id": "GDRv7UjbL3GA",
      "execution_count": null,
      "outputs": []
    },
    {
      "cell_type": "markdown",
      "source": [
        "## Section 3.2: k-Nearest Neighbors (kNN)"
      ],
      "metadata": {
        "id": "gRigyTCEwDio"
      },
      "id": "gRigyTCEwDio"
    },
    {
      "cell_type": "code",
      "source": [
        "knn = KNeighborsClassifierr()\n",
        "knn.fit(x_train, y_train)"
      ],
      "metadata": {
        "id": "kdxpbHbVLx4N"
      },
      "id": "kdxpbHbVLx4N",
      "execution_count": null,
      "outputs": []
    },
    {
      "cell_type": "markdown",
      "id": "49c6eb0a",
      "metadata": {
        "papermill": {
          "duration": 0.029876,
          "end_time": "2022-06-17T20:54:20.213514",
          "exception": false,
          "start_time": "2022-06-17T20:54:20.183638",
          "status": "completed"
        },
        "tags": [],
        "id": "49c6eb0a"
      },
      "source": [
        "## Section 3.3: Logistic Regression"
      ]
    },
    {
      "cell_type": "code",
      "execution_count": null,
      "id": "35f2e30e",
      "metadata": {
        "execution": {
          "iopub.execute_input": "2022-06-17T20:54:20.272321Z",
          "iopub.status.busy": "2022-06-17T20:54:20.271162Z",
          "iopub.status.idle": "2022-06-17T20:54:20.290636Z",
          "shell.execute_reply": "2022-06-17T20:54:20.289009Z"
        },
        "papermill": {
          "duration": 0.05198,
          "end_time": "2022-06-17T20:54:20.293486",
          "exception": false,
          "start_time": "2022-06-17T20:54:20.241506",
          "status": "completed"
        },
        "tags": [],
        "id": "35f2e30e"
      },
      "outputs": [],
      "source": [
        "lr = LogisticRegression()\n",
        "lr.fit(x_train, y_train)"
      ]
    },
    {
      "cell_type": "code",
      "execution_count": null,
      "id": "52e7aa67",
      "metadata": {
        "execution": {
          "iopub.execute_input": "2022-06-17T20:54:20.356133Z",
          "iopub.status.busy": "2022-06-17T20:54:20.355220Z",
          "iopub.status.idle": "2022-06-17T20:54:20.369710Z",
          "shell.execute_reply": "2022-06-17T20:54:20.368180Z"
        },
        "papermill": {
          "duration": 0.047694,
          "end_time": "2022-06-17T20:54:20.372365",
          "exception": false,
          "start_time": "2022-06-17T20:54:20.324671",
          "status": "completed"
        },
        "tags": [],
        "id": "52e7aa67"
      },
      "outputs": [],
      "source": [
        "lr_pred = lr.predict(x_test)\n",
        "pd.DataFrame(np.c_[y_test,lr_pred],columns=['Actual','Predicted']).head(7)"
      ]
    },
    {
      "cell_type": "code",
      "execution_count": null,
      "id": "14c2367c",
      "metadata": {
        "execution": {
          "iopub.execute_input": "2022-06-17T20:54:20.436338Z",
          "iopub.status.busy": "2022-06-17T20:54:20.434363Z",
          "iopub.status.idle": "2022-06-17T20:54:20.721561Z",
          "shell.execute_reply": "2022-06-17T20:54:20.720031Z"
        },
        "papermill": {
          "duration": 0.323032,
          "end_time": "2022-06-17T20:54:20.724737",
          "exception": false,
          "start_time": "2022-06-17T20:54:20.401705",
          "status": "completed"
        },
        "tags": [],
        "id": "14c2367c"
      },
      "outputs": [],
      "source": [
        "print(\" Test Accuracy score : \",round(lr.score(x_test,y_test)*100,2),\"%\")\n",
        "print(\"Train Accuracy score : \",round(lr.score(x_train,y_train)*100,2),\"%\")\n",
        "print(\"----------------------\")\n",
        "print(\"Classification Report\")\n",
        "print(\"----------------------\")\n",
        "con = confusion_matrix(lr_pred,y_test)\n",
        "plt.figure(figsize=(5,3))\n",
        "sns.heatmap(con, annot=True,cmap=\"YlGnBu\",fmt='g')\n",
        "plt.xlabel('Actual Values')\n",
        "plt.ylabel('Predicted Values')\n",
        "print(classification_report(y_test,lr_pred))"
      ]
    },
    {
      "cell_type": "code",
      "execution_count": null,
      "id": "de750101",
      "metadata": {
        "execution": {
          "iopub.execute_input": "2022-06-17T20:54:20.785960Z",
          "iopub.status.busy": "2022-06-17T20:54:20.785347Z",
          "iopub.status.idle": "2022-06-17T20:54:20.793641Z",
          "shell.execute_reply": "2022-06-17T20:54:20.792644Z"
        },
        "papermill": {
          "duration": 0.041528,
          "end_time": "2022-06-17T20:54:20.795767",
          "exception": false,
          "start_time": "2022-06-17T20:54:20.754239",
          "status": "completed"
        },
        "tags": [],
        "id": "de750101"
      },
      "outputs": [],
      "source": [
        "auc = roc_auc_score(y_test,lr_pred)\n",
        "auc"
      ]
    },
    {
      "cell_type": "code",
      "execution_count": null,
      "id": "a9d430e8",
      "metadata": {
        "execution": {
          "iopub.execute_input": "2022-06-17T20:54:20.858150Z",
          "iopub.status.busy": "2022-06-17T20:54:20.857388Z",
          "iopub.status.idle": "2022-06-17T20:54:21.124603Z",
          "shell.execute_reply": "2022-06-17T20:54:21.123624Z"
        },
        "papermill": {
          "duration": 0.301944,
          "end_time": "2022-06-17T20:54:21.127152",
          "exception": false,
          "start_time": "2022-06-17T20:54:20.825208",
          "status": "completed"
        },
        "scrolled": true,
        "tags": [],
        "id": "a9d430e8"
      },
      "outputs": [],
      "source": [
        "fpr, tpr, thresholds = roc_curve(y_test,lr_pred)\n",
        "plt.figure(figsize=(8,5))\n",
        "plt.plot(fpr , tpr , color='red',label='ROC')\n",
        "plt.plot([0,1],[0,1],color = 'darkblue',linestyle='--',label='ROC curve(area = %0.2f)'% auc)\n",
        "plt.xlabel('False positive rate')\n",
        "plt.ylabel('True positive rate')\n",
        "plt.title('Receiver Operating Characterstics (ROC) curve')\n",
        "plt.legend()\n",
        "plt.show()"
      ]
    },
    {
      "cell_type": "markdown",
      "id": "b5804645",
      "metadata": {
        "papermill": {
          "duration": 0.031318,
          "end_time": "2022-06-17T20:54:21.189034",
          "exception": false,
          "start_time": "2022-06-17T20:54:21.157716",
          "status": "completed"
        },
        "tags": [],
        "id": "b5804645"
      },
      "source": [
        "## Section 3.4: Random Forest Classification"
      ]
    },
    {
      "cell_type": "code",
      "execution_count": null,
      "id": "01eafe72",
      "metadata": {
        "execution": {
          "iopub.execute_input": "2022-06-17T20:54:21.252608Z",
          "iopub.status.busy": "2022-06-17T20:54:21.251932Z",
          "iopub.status.idle": "2022-06-17T20:54:21.482913Z",
          "shell.execute_reply": "2022-06-17T20:54:21.480989Z"
        },
        "papermill": {
          "duration": 0.265747,
          "end_time": "2022-06-17T20:54:21.486014",
          "exception": false,
          "start_time": "2022-06-17T20:54:21.220267",
          "status": "completed"
        },
        "tags": [],
        "id": "01eafe72"
      },
      "outputs": [],
      "source": [
        "rfc = RandomForestClassifier(max_depth=4)\n",
        "rfc.fit(x_train, y_train)"
      ]
    },
    {
      "cell_type": "code",
      "execution_count": null,
      "id": "815e0487",
      "metadata": {
        "execution": {
          "iopub.execute_input": "2022-06-17T20:54:21.548858Z",
          "iopub.status.busy": "2022-06-17T20:54:21.548405Z",
          "iopub.status.idle": "2022-06-17T20:54:21.574587Z",
          "shell.execute_reply": "2022-06-17T20:54:21.573702Z"
        },
        "papermill": {
          "duration": 0.059229,
          "end_time": "2022-06-17T20:54:21.576792",
          "exception": false,
          "start_time": "2022-06-17T20:54:21.517563",
          "status": "completed"
        },
        "tags": [],
        "id": "815e0487"
      },
      "outputs": [],
      "source": [
        "rfc_pred = rfc.predict(x_test)\n",
        "pd.DataFrame(np.c_[y_test,rfc_pred],columns=['Actual','Predicted']).head()"
      ]
    },
    {
      "cell_type": "code",
      "execution_count": null,
      "id": "00ee142a",
      "metadata": {
        "execution": {
          "iopub.execute_input": "2022-06-17T20:54:21.643256Z",
          "iopub.status.busy": "2022-06-17T20:54:21.642450Z",
          "iopub.status.idle": "2022-06-17T20:54:21.931957Z",
          "shell.execute_reply": "2022-06-17T20:54:21.930733Z"
        },
        "papermill": {
          "duration": 0.324702,
          "end_time": "2022-06-17T20:54:21.934351",
          "exception": false,
          "start_time": "2022-06-17T20:54:21.609649",
          "status": "completed"
        },
        "tags": [],
        "id": "00ee142a"
      },
      "outputs": [],
      "source": [
        "print(\" Test Accuracy score : \",round(rfc.score(x_test,y_test)*100,2),\"%\")\n",
        "print(\"Train Accuracy score : \",round(rfc.score(x_train,y_train)*100,2),\"%\")\n",
        "clf_con = confusion_matrix(y_test,rfc_pred)\n",
        "print(\"----------------------\")\n",
        "print(\"Classification Report\")\n",
        "print(\"----------------------\")\n",
        "print(classification_report(y_test,rfc_pred))\n",
        "plt.figure(figsize=(5,3))\n",
        "sns.heatmap(clf_con, annot=True,cmap=\"YlGnBu\",fmt='g')\n",
        "plt.xlabel('Actual Values')\n",
        "plt.ylabel('Predicted Values')\n",
        "plt.show()"
      ]
    },
    {
      "cell_type": "code",
      "execution_count": null,
      "id": "d8bcf621",
      "metadata": {
        "execution": {
          "iopub.execute_input": "2022-06-17T20:54:22.004144Z",
          "iopub.status.busy": "2022-06-17T20:54:22.003598Z",
          "iopub.status.idle": "2022-06-17T20:54:22.013585Z",
          "shell.execute_reply": "2022-06-17T20:54:22.012489Z"
        },
        "papermill": {
          "duration": 0.049981,
          "end_time": "2022-06-17T20:54:22.016253",
          "exception": false,
          "start_time": "2022-06-17T20:54:21.966272",
          "status": "completed"
        },
        "tags": [],
        "id": "d8bcf621"
      },
      "outputs": [],
      "source": [
        "auc = roc_auc_score(y_test,rfc_pred)\n",
        "auc"
      ]
    },
    {
      "cell_type": "code",
      "execution_count": null,
      "id": "4746d078",
      "metadata": {
        "execution": {
          "iopub.execute_input": "2022-06-17T20:54:22.081779Z",
          "iopub.status.busy": "2022-06-17T20:54:22.080665Z",
          "iopub.status.idle": "2022-06-17T20:54:22.334936Z",
          "shell.execute_reply": "2022-06-17T20:54:22.333806Z"
        },
        "papermill": {
          "duration": 0.289449,
          "end_time": "2022-06-17T20:54:22.338050",
          "exception": false,
          "start_time": "2022-06-17T20:54:22.048601",
          "status": "completed"
        },
        "tags": [],
        "id": "4746d078"
      },
      "outputs": [],
      "source": [
        "fpr, tpr, thresholds = roc_curve(y_test,rfc_pred)\n",
        "plt.figure(figsize=(8,5))\n",
        "plt.plot(fpr , tpr , color='red',label='ROC')\n",
        "plt.plot([0,1],[0,1],color = 'darkblue',linestyle='--',label='ROC curve(area = %0.2f)'% auc)\n",
        "plt.xlabel('False positive rate')\n",
        "plt.ylabel('True positive rate')\n",
        "plt.title('Receiver Operating Characterstics (ROC) curve')\n",
        "plt.legend()\n",
        "plt.show()"
      ]
    },
    {
      "cell_type": "markdown",
      "id": "341d081b",
      "metadata": {
        "papermill": {
          "duration": 0.033856,
          "end_time": "2022-06-17T20:54:22.406876",
          "exception": false,
          "start_time": "2022-06-17T20:54:22.373020",
          "status": "completed"
        },
        "tags": [],
        "id": "341d081b"
      },
      "source": [
        "## Section 3.5: Model Comparison"
      ]
    },
    {
      "cell_type": "code",
      "execution_count": null,
      "id": "432b170b",
      "metadata": {
        "execution": {
          "iopub.execute_input": "2022-06-17T20:54:22.472595Z",
          "iopub.status.busy": "2022-06-17T20:54:22.471907Z",
          "iopub.status.idle": "2022-06-17T20:54:22.517954Z",
          "shell.execute_reply": "2022-06-17T20:54:22.516817Z"
        },
        "papermill": {
          "duration": 0.082,
          "end_time": "2022-06-17T20:54:22.520466",
          "exception": false,
          "start_time": "2022-06-17T20:54:22.438466",
          "status": "completed"
        },
        "tags": [],
        "id": "432b170b"
      },
      "outputs": [],
      "source": [
        "data = { 'Models' : ['Logistic Regression','Random Forest'],\n",
        "         'Test Accuracy' : [round(lr.score(x_test,y_test)*100,2), round(rfc.score(x_test,y_test)*100,2)],\n",
        "         'Train Accuracy': [round(lr.score(x_train,y_train)*100,2),round(rfc.score(x_train,y_train)*100,2)],\n",
        "       }\n",
        "\n",
        "df = pd.DataFrame(data)\n",
        "df.sort_values(by='Test Accuracy',ascending=False)"
      ]
    },
    {
      "cell_type": "code",
      "execution_count": null,
      "id": "81f809a4",
      "metadata": {
        "execution": {
          "iopub.execute_input": "2022-06-17T20:54:22.587292Z",
          "iopub.status.busy": "2022-06-17T20:54:22.585685Z",
          "iopub.status.idle": "2022-06-17T20:54:22.785046Z",
          "shell.execute_reply": "2022-06-17T20:54:22.783732Z"
        },
        "papermill": {
          "duration": 0.235835,
          "end_time": "2022-06-17T20:54:22.788257",
          "exception": false,
          "start_time": "2022-06-17T20:54:22.552422",
          "status": "completed"
        },
        "tags": [],
        "id": "81f809a4"
      },
      "outputs": [],
      "source": [
        "plt.figure(figsize = (5,6))\n",
        "sns.barplot(x='Models', y='Test Accuracy',data=df)\n",
        "plt.show()"
      ]
    },
    {
      "cell_type": "markdown",
      "id": "ef7780ec",
      "metadata": {
        "papermill": {
          "duration": 0.031268,
          "end_time": "2022-06-17T20:54:22.852152",
          "exception": false,
          "start_time": "2022-06-17T20:54:22.820884",
          "status": "completed"
        },
        "tags": [],
        "id": "ef7780ec"
      },
      "source": [
        "## Section 3.6: Data Testing"
      ]
    },
    {
      "cell_type": "code",
      "execution_count": null,
      "id": "47e1d72c",
      "metadata": {
        "execution": {
          "iopub.execute_input": "2022-06-17T20:54:22.922774Z",
          "iopub.status.busy": "2022-06-17T20:54:22.921670Z",
          "iopub.status.idle": "2022-06-17T20:54:22.948760Z",
          "shell.execute_reply": "2022-06-17T20:54:22.947213Z"
        },
        "papermill": {
          "duration": 0.06705,
          "end_time": "2022-06-17T20:54:22.952071",
          "exception": false,
          "start_time": "2022-06-17T20:54:22.885021",
          "status": "completed"
        },
        "tags": [],
        "id": "47e1d72c"
      },
      "outputs": [],
      "source": [
        "data2.head(25)"
      ]
    },
    {
      "cell_type": "code",
      "execution_count": null,
      "id": "7e7a2772",
      "metadata": {
        "execution": {
          "iopub.execute_input": "2022-06-17T20:54:23.031887Z",
          "iopub.status.busy": "2022-06-17T20:54:23.030501Z",
          "iopub.status.idle": "2022-06-17T20:54:23.062878Z",
          "shell.execute_reply": "2022-06-17T20:54:23.061976Z"
        },
        "papermill": {
          "duration": 0.076289,
          "end_time": "2022-06-17T20:54:23.066667",
          "exception": false,
          "start_time": "2022-06-17T20:54:22.990378",
          "status": "completed"
        },
        "tags": [],
        "id": "7e7a2772"
      },
      "outputs": [],
      "source": [
        "sample1 = [45,1,0,104,208,0,0,148,1,3.0,1,0,2]\n",
        "if rfc.predict([sample1]) == 0:\n",
        "    print('[SAFE] HEART DISEASE NOT DETECTED')\n",
        "else:\n",
        "    print(' [WARNING] HEART DISEASE DETECTED')"
      ]
    },
    {
      "cell_type": "code",
      "execution_count": null,
      "id": "21d82ae8",
      "metadata": {
        "execution": {
          "iopub.execute_input": "2022-06-17T20:54:23.168791Z",
          "iopub.status.busy": "2022-06-17T20:54:23.167950Z",
          "iopub.status.idle": "2022-06-17T20:54:23.175848Z",
          "shell.execute_reply": "2022-06-17T20:54:23.174574Z"
        },
        "papermill": {
          "duration": 0.063807,
          "end_time": "2022-06-17T20:54:23.180724",
          "exception": false,
          "start_time": "2022-06-17T20:54:23.116917",
          "status": "completed"
        },
        "tags": [],
        "id": "21d82ae8"
      },
      "outputs": [],
      "source": [
        "sample2 = [45,1,0,104,208,0,0,148,1,3.0,1,0,2]\n",
        "if lr.predict([sample2]) == 0:\n",
        "    print('[SAFE] HEART DISEASE NOT DETECTED')\n",
        "else:\n",
        "    print(' [WARNING] HEART DISEASE DETECTED')"
      ]
    },
    {
      "cell_type": "markdown",
      "source": [
        "# Section 4: References\n",
        "\n"
      ],
      "metadata": {
        "id": "2SBZaiW_tpS8"
      },
      "id": "2SBZaiW_tpS8"
    },
    {
      "cell_type": "markdown",
      "source": [
        "1. https://machinelearningmastery.com/hyperparameters-for-classification-machine-learning-algorithms/\n",
        "2. DATA from UCI = https://archive.ics.uci.edu/ml/datasets/heart+disease\n",
        "3. https://data.world/uci/heart-disease\n",
        "4. var explanation & cover story: https://towardsdatascience.com/heart-disease-prediction-73468d630cfc\n"
      ],
      "metadata": {
        "id": "4ANKdh0auOxD"
      },
      "id": "4ANKdh0auOxD"
    }
  ],
  "metadata": {
    "kernelspec": {
      "display_name": "Python 3",
      "language": "python",
      "name": "python3"
    },
    "language_info": {
      "codemirror_mode": {
        "name": "ipython",
        "version": 3
      },
      "file_extension": ".py",
      "mimetype": "text/x-python",
      "name": "python",
      "nbconvert_exporter": "python",
      "pygments_lexer": "ipython3",
      "version": "3.7.12"
    },
    "papermill": {
      "default_parameters": {},
      "duration": 30.293134,
      "end_time": "2022-06-17T20:54:24.745773",
      "environment_variables": {},
      "exception": null,
      "input_path": "__notebook__.ipynb",
      "output_path": "__notebook__.ipynb",
      "parameters": {},
      "start_time": "2022-06-17T20:53:54.452639",
      "version": "2.3.4"
    },
    "colab": {
      "name": "MSG332_Project.ipynb",
      "provenance": [],
      "collapsed_sections": [
        "3526893a",
        "WxC9_nUmv-eE",
        "gRigyTCEwDio",
        "49c6eb0a",
        "b5804645",
        "341d081b",
        "ef7780ec"
      ]
    },
    "accelerator": "TPU",
    "gpuClass": "standard"
  },
  "nbformat": 4,
  "nbformat_minor": 5
}